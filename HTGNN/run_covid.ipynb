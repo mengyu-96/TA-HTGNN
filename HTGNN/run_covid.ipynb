{
 "cells": [
  {
   "cell_type": "code",
   "metadata": {
    "ExecuteTime": {
     "end_time": "2025-07-24T12:30:05.398928Z",
     "start_time": "2025-07-24T12:29:59.671589Z"
    }
   },
   "source": [
    "import dgl\n",
    "from dgl.data.utils import load_graphs\n",
    "\n",
    "import torch\n",
    "import torch.nn as nn\n",
    "import torch.nn.functional as F\n",
    "import numpy as np\n",
    "\n",
    "from model.model import HTGNN, NodePredictor\n",
    "from utils.pytorchtools import EarlyStopping\n",
    "from utils.data import load_COVID_data\n",
    "\n",
    "dgl.seed(0)\n",
    "np.random.seed(0)\n",
    "torch.manual_seed(0)\n",
    "torch.cuda.manual_seed(0)\n",
    "torch.cuda.manual_seed_all(0)"
   ],
   "outputs": [],
   "execution_count": 1
  },
  {
   "cell_type": "code",
   "metadata": {
    "ExecuteTime": {
     "end_time": "2025-07-24T12:30:05.414975Z",
     "start_time": "2025-07-24T12:30:05.400433Z"
    }
   },
   "source": [
    "def evaluate(model, val_feats, val_labels):\n",
    "    val_mae_list, val_rmse_list = [], []\n",
    "    model.eval()\n",
    "    with torch.no_grad():\n",
    "        for (G_feat, G_label) in zip(val_feats, val_labels):\n",
    "            h = model[0](G_feat.to(device), 'state')\n",
    "            pred = model[1](h)\n",
    "            label = G_label.nodes['state'].data['feat']\n",
    "            loss = F.l1_loss(pred, label.to(device))\n",
    "            rmse = torch.sqrt(F.mse_loss(pred, label.to(device)))\n",
    "\n",
    "            val_mae_list.append(loss.item())\n",
    "            val_rmse_list.append(rmse.item())\n",
    "            \n",
    "        loss = sum(val_mae_list) / len(val_mae_list)\n",
    "        rmse = sum(val_rmse_list) / len(val_rmse_list)\n",
    "\n",
    "    return loss, rmse"
   ],
   "outputs": [],
   "execution_count": 2
  },
  {
   "cell_type": "code",
   "metadata": {
    "scrolled": true,
    "tags": [],
    "jupyter": {
     "is_executing": true
    },
    "ExecuteTime": {
     "start_time": "2025-07-24T12:30:05.415975Z"
    }
   },
   "source": [
    "device = torch.device('cuda:0')\n",
    "glist, _ = load_graphs('data/covid_graphs.bin')\n",
    "time_window = 7\n",
    "\n",
    "train_feats, train_labels, val_feats, val_labels, test_feats, test_labels = load_COVID_data(glist, time_window)\n",
    "\n",
    "graph_atom = test_feats[0]\n",
    "mae_list, rmse_list = [], []\n",
    "model_out_path = 'output/COVID19'\n",
    "\n",
    "for k in range(5):\n",
    "    htgnn = HTGNN(graph=graph_atom, n_inp=1, n_hid=8, n_layers=2, n_heads=1, time_window=time_window, norm=False, device=device)\n",
    "    predictor = NodePredictor(n_inp=8, n_classes=1)\n",
    "    model = nn.Sequential(htgnn, predictor).to(device)\n",
    "\n",
    "    print(f'---------------Repeat time: {k+1}---------------------')\n",
    "    print(f'# params: {sum(p.numel() for p in model.parameters() if p.requires_grad)}')\n",
    "    \n",
    "    early_stopping = EarlyStopping(patience=10, verbose=True, path=f'{model_out_path}/checkpoint_HTGNN_{k}.pt')\n",
    "    optim = torch.optim.Adam(model.parameters(), lr=5e-3, weight_decay=5e-4)\n",
    "    \n",
    "    train_mae_list, train_rmse_list = [], []\n",
    "    idx = np.random.permutation(len(train_feats))\n",
    "\n",
    "    for epoch in range(500):\n",
    "        model.train()\n",
    "        for i in idx:\n",
    "\n",
    "            G_feat = train_feats[i]\n",
    "            G_label = train_labels[i]\n",
    "            \n",
    "            h = model[0](G_feat.to(device), 'state')\n",
    "            pred = model[1](h)\n",
    "            label = G_label.nodes['state'].data['feat']\n",
    "            loss = F.l1_loss(pred, label.to(device))\n",
    "            rmse = torch.sqrt(F.mse_loss(pred, label.to(device)))\n",
    "\n",
    "            train_mae_list.append(loss.item())\n",
    "            train_rmse_list.append(rmse.item())\n",
    "            optim.zero_grad()\n",
    "            loss.backward()\n",
    "            optim.step()\n",
    "        print(sum(train_mae_list) / len(train_mae_list), sum(train_rmse_list) / len(train_rmse_list))\n",
    "\n",
    "        loss, rmse = evaluate(model, val_feats, val_labels)\n",
    "        early_stopping(loss, model)\n",
    "\n",
    "        if early_stopping.early_stop:\n",
    "            print(\"Early stopping\")\n",
    "            break\n",
    "\n",
    "    model.load_state_dict(torch.load(f'{model_out_path}/checkpoint_HTGNN_{k}.pt'))\n",
    "    mae, rmse = evaluate(model, test_feats, test_labels)\n",
    "\n",
    "    print(f'mae: {mae}, rmse: {rmse}')\n",
    "    mae_list.append(mae)\n",
    "    rmse_list.append(rmse)"
   ],
   "outputs": [
    {
     "name": "stdout",
     "output_type": "stream",
     "text": [
      "---------------Repeat time: 1---------------------\n",
      "# params: 7797\n",
      "503.6185465945473 1059.5776576432497\n",
      "Validation loss decreased (inf --> 1246.618062).  Saving model ...\n"
     ]
    }
   ],
   "execution_count": null
  },
  {
   "cell_type": "code",
   "metadata": {
    "jupyter": {
     "is_executing": true
    }
   },
   "source": [
    "import statistics\n",
    "\n",
    "print(f'MAE: {statistics.mean(mae_list)}, {statistics.stdev(mae_list)}')\n",
    "print(f'RMSE: {statistics.mean(rmse_list)}, {statistics.stdev(rmse_list)}')"
   ],
   "outputs": [],
   "execution_count": null
  }
 ],
 "metadata": {
  "kernelspec": {
   "display_name": "Python (htgnn_env)",
   "language": "python",
   "name": "htgnn_env"
  },
  "language_info": {
   "codemirror_mode": {
    "name": "ipython",
    "version": 3
   },
   "file_extension": ".py",
   "mimetype": "text/x-python",
   "name": "python",
   "nbconvert_exporter": "python",
   "pygments_lexer": "ipython3",
   "version": "3.7.10"
  }
 },
 "nbformat": 4,
 "nbformat_minor": 4
}
