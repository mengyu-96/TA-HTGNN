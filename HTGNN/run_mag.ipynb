version https://git-lfs.github.com/spec/v1
oid sha256:787710d721b33222fcc592b03d03f619e4414e4ee57a13f88151a1a3d4d983ba
size 112431
